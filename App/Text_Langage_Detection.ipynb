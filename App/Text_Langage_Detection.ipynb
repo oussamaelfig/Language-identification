{
 "cells": [
  {
   "cell_type": "markdown",
   "id": "3bbe79a4",
   "metadata": {},
   "source": [
    "Plugins Importing\n"
   ]
  },
  {
   "cell_type": "code",
   "execution_count": null,
   "id": "57aee355",
   "metadata": {},
   "outputs": [],
   "source": [
    "import pandas as pd\n",
    "from nltk.corpus import stopwords\n",
    "from sklearn.feature_extraction.text import CountVectorizer\n",
    "import nltk\n",
    "from nltk import sent_tokenize\n",
    "from nltk import word_tokenize\n",
    "from sklearn import preprocessing \n",
    "from sklearn.model_selection import train_test_split\n",
    "from sklearn.naive_bayes import MultinomialNB\n",
    "from sklearn.linear_model import LogisticRegression\n",
    "from sklearn import svm\n",
    "import matplotlib.pyplot as plt\n",
    "from sklearn.model_selection import train_test_split\n",
    "from sklearn.metrics import classification_report\n",
    "from sklearn.ensemble import RandomForestClassifier\n",
    "from sklearn.pipeline import Pipeline\n",
    "import textfeatures as tf\n",
    "from nltk.corpus import stopwords\n",
    "import nltk\n",
    "from nltk.tokenize import word_tokenize\n",
    "from nltk.corpus import stopwords\n",
    "\n",
    "from sklearn.externals import joblib\n"
   ]
  },
  {
   "cell_type": "markdown",
   "id": "1930aa4f",
   "metadata": {},
   "source": [
    "Data importing "
   ]
  },
  {
   "cell_type": "code",
   "execution_count": 3,
   "id": "89775cde",
   "metadata": {},
   "outputs": [],
   "source": [
    "#Data importing \n",
    "df= pd.read_csv(\"language-identification-datasets.csv\")\n"
   ]
  },
  {
   "cell_type": "markdown",
   "id": "0f9dc51d",
   "metadata": {},
   "source": [
    "Extract test data set for submission "
   ]
  },
  {
   "cell_type": "code",
   "execution_count": 4,
   "id": "27c6722d",
   "metadata": {},
   "outputs": [
    {
     "data": {
      "text/html": [
       "<div>\n",
       "<style scoped>\n",
       "    .dataframe tbody tr th:only-of-type {\n",
       "        vertical-align: middle;\n",
       "    }\n",
       "\n",
       "    .dataframe tbody tr th {\n",
       "        vertical-align: top;\n",
       "    }\n",
       "\n",
       "    .dataframe thead th {\n",
       "        text-align: right;\n",
       "    }\n",
       "</style>\n",
       "<table border=\"1\" class=\"dataframe\">\n",
       "  <thead>\n",
       "    <tr style=\"text-align: right;\">\n",
       "      <th></th>\n",
       "      <th>Text</th>\n",
       "      <th>Language</th>\n",
       "      <th>ID</th>\n",
       "    </tr>\n",
       "  </thead>\n",
       "  <tbody>\n",
       "    <tr>\n",
       "      <th>24326</th>\n",
       "      <td>[6] Encyclopædia Britannica Inc. şirketi ise a...</td>\n",
       "      <td>NaN</td>\n",
       "      <td>7823</td>\n",
       "    </tr>\n",
       "    <tr>\n",
       "      <th>24327</th>\n",
       "      <td>disculparse.</td>\n",
       "      <td>NaN</td>\n",
       "      <td>5551</td>\n",
       "    </tr>\n",
       "    <tr>\n",
       "      <th>24328</th>\n",
       "      <td>em  bon jovi lançou o álbum have a nice day a ...</td>\n",
       "      <td>NaN</td>\n",
       "      <td>12728</td>\n",
       "    </tr>\n",
       "    <tr>\n",
       "      <th>24329</th>\n",
       "      <td>mai fostul președinte egiptean mohamed morsi ...</td>\n",
       "      <td>NaN</td>\n",
       "      <td>14197</td>\n",
       "    </tr>\n",
       "    <tr>\n",
       "      <th>24330</th>\n",
       "      <td>otok škulj är en ö i kroatien den ligger i län...</td>\n",
       "      <td>NaN</td>\n",
       "      <td>18982</td>\n",
       "    </tr>\n",
       "    <tr>\n",
       "      <th>...</th>\n",
       "      <td>...</td>\n",
       "      <td>...</td>\n",
       "      <td>...</td>\n",
       "    </tr>\n",
       "    <tr>\n",
       "      <th>31007</th>\n",
       "      <td>그의 조선인 참정권 운동은 점차 조선인 지식인들 일각에서 호응을 얻기 시작하였다 민...</td>\n",
       "      <td>NaN</td>\n",
       "      <td>29033</td>\n",
       "    </tr>\n",
       "    <tr>\n",
       "      <th>31008</th>\n",
       "      <td>มีความยาวสูงสุดราว  เซนติเมตร เป็นปลาที่พบกระจ...</td>\n",
       "      <td>NaN</td>\n",
       "      <td>15461</td>\n",
       "    </tr>\n",
       "    <tr>\n",
       "      <th>31009</th>\n",
       "      <td>เอเธนส์มีประชาชนชายเพียงแค่  คน แต่มีหลายพันที...</td>\n",
       "      <td>NaN</td>\n",
       "      <td>15441</td>\n",
       "    </tr>\n",
       "    <tr>\n",
       "      <th>31010</th>\n",
       "      <td>marty ally y buttons se encuentran en el camin...</td>\n",
       "      <td>NaN</td>\n",
       "      <td>16450</td>\n",
       "    </tr>\n",
       "    <tr>\n",
       "      <th>31011</th>\n",
       "      <td>วัฏจักรเหล็กเป็นการหมุนเวียนของเหล็กในสิ่งแวดล...</td>\n",
       "      <td>NaN</td>\n",
       "      <td>19697</td>\n",
       "    </tr>\n",
       "  </tbody>\n",
       "</table>\n",
       "<p>6686 rows × 3 columns</p>\n",
       "</div>"
      ],
      "text/plain": [
       "                                                    Text Language     ID\n",
       "24326  [6] Encyclopædia Britannica Inc. şirketi ise a...      NaN   7823\n",
       "24327                                       disculparse.      NaN   5551\n",
       "24328  em  bon jovi lançou o álbum have a nice day a ...      NaN  12728\n",
       "24329   mai fostul președinte egiptean mohamed morsi ...      NaN  14197\n",
       "24330  otok škulj är en ö i kroatien den ligger i län...      NaN  18982\n",
       "...                                                  ...      ...    ...\n",
       "31007  그의 조선인 참정권 운동은 점차 조선인 지식인들 일각에서 호응을 얻기 시작하였다 민...      NaN  29033\n",
       "31008  มีความยาวสูงสุดราว  เซนติเมตร เป็นปลาที่พบกระจ...      NaN  15461\n",
       "31009  เอเธนส์มีประชาชนชายเพียงแค่  คน แต่มีหลายพันที...      NaN  15441\n",
       "31010  marty ally y buttons se encuentran en el camin...      NaN  16450\n",
       "31011  วัฏจักรเหล็กเป็นการหมุนเวียนของเหล็กในสิ่งแวดล...      NaN  19697\n",
       "\n",
       "[6686 rows x 3 columns]"
      ]
     },
     "execution_count": 4,
     "metadata": {},
     "output_type": "execute_result"
    }
   ],
   "source": [
    "dfWithLabelNan=df[df['Language'].isna()]\n",
    "dfWithLabelNan"
   ]
  },
  {
   "cell_type": "markdown",
   "id": "5197e8fb",
   "metadata": {},
   "source": [
    "Extract Data set for training et test model"
   ]
  },
  {
   "cell_type": "code",
   "execution_count": 5,
   "id": "1338d825",
   "metadata": {},
   "outputs": [
    {
     "data": {
      "text/html": [
       "<div>\n",
       "<style scoped>\n",
       "    .dataframe tbody tr th:only-of-type {\n",
       "        vertical-align: middle;\n",
       "    }\n",
       "\n",
       "    .dataframe tbody tr th {\n",
       "        vertical-align: top;\n",
       "    }\n",
       "\n",
       "    .dataframe thead th {\n",
       "        text-align: right;\n",
       "    }\n",
       "</style>\n",
       "<table border=\"1\" class=\"dataframe\">\n",
       "  <thead>\n",
       "    <tr style=\"text-align: right;\">\n",
       "      <th></th>\n",
       "      <th>Text</th>\n",
       "      <th>Language</th>\n",
       "      <th>ID</th>\n",
       "    </tr>\n",
       "  </thead>\n",
       "  <tbody>\n",
       "    <tr>\n",
       "      <th>0</th>\n",
       "      <td>şirket icra kurulu başkanı melih abdülhayoğlu ...</td>\n",
       "      <td>Turkish</td>\n",
       "      <td>26110</td>\n",
       "    </tr>\n",
       "    <tr>\n",
       "      <th>1</th>\n",
       "      <td>매춘업의 공식화를 주장한 민원식은 \"우又 근경近頃 일본인이 주가 음식매점 등국내 도...</td>\n",
       "      <td>Korean</td>\n",
       "      <td>26862</td>\n",
       "    </tr>\n",
       "    <tr>\n",
       "      <th>2</th>\n",
       "      <td>خلال عظاته ركز التعليم اللاهوتي للبابا على الش...</td>\n",
       "      <td>Arabic</td>\n",
       "      <td>20562</td>\n",
       "    </tr>\n",
       "    <tr>\n",
       "      <th>3</th>\n",
       "      <td>soggin was born on  march  he took his first d...</td>\n",
       "      <td>English</td>\n",
       "      <td>14298</td>\n",
       "    </tr>\n",
       "    <tr>\n",
       "      <th>4</th>\n",
       "      <td>kulturmejeriet är sedan mitten av -talet en vi...</td>\n",
       "      <td>Swedish</td>\n",
       "      <td>17338</td>\n",
       "    </tr>\n",
       "    <tr>\n",
       "      <th>...</th>\n",
       "      <td>...</td>\n",
       "      <td>...</td>\n",
       "      <td>...</td>\n",
       "    </tr>\n",
       "    <tr>\n",
       "      <th>24321</th>\n",
       "      <td>\"cato kirjad\" catos letters on seeria esseesid...</td>\n",
       "      <td>Estonian</td>\n",
       "      <td>21054</td>\n",
       "    </tr>\n",
       "    <tr>\n",
       "      <th>24322</th>\n",
       "      <td>Le Wikipedia Education Program[149] permet à d...</td>\n",
       "      <td>French</td>\n",
       "      <td>3788</td>\n",
       "    </tr>\n",
       "    <tr>\n",
       "      <th>24323</th>\n",
       "      <td>agulid endanimetus агулар on rahvas dagestanis...</td>\n",
       "      <td>Estonian</td>\n",
       "      <td>24375</td>\n",
       "    </tr>\n",
       "    <tr>\n",
       "      <th>24324</th>\n",
       "      <td>آنچه مسلم است خراسان و اسفراین که شهرکی در آن ...</td>\n",
       "      <td>Persian</td>\n",
       "      <td>30268</td>\n",
       "    </tr>\n",
       "    <tr>\n",
       "      <th>24325</th>\n",
       "      <td>sana yardım etmeye çalışıyordu ama söyleyebile...</td>\n",
       "      <td>Turkish</td>\n",
       "      <td>8012</td>\n",
       "    </tr>\n",
       "  </tbody>\n",
       "</table>\n",
       "<p>24326 rows × 3 columns</p>\n",
       "</div>"
      ],
      "text/plain": [
       "                                                    Text  Language     ID\n",
       "0      şirket icra kurulu başkanı melih abdülhayoğlu ...   Turkish  26110\n",
       "1      매춘업의 공식화를 주장한 민원식은 \"우又 근경近頃 일본인이 주가 음식매점 등국내 도...    Korean  26862\n",
       "2      خلال عظاته ركز التعليم اللاهوتي للبابا على الش...    Arabic  20562\n",
       "3      soggin was born on  march  he took his first d...   English  14298\n",
       "4      kulturmejeriet är sedan mitten av -talet en vi...   Swedish  17338\n",
       "...                                                  ...       ...    ...\n",
       "24321  \"cato kirjad\" catos letters on seeria esseesid...  Estonian  21054\n",
       "24322  Le Wikipedia Education Program[149] permet à d...    French   3788\n",
       "24323  agulid endanimetus агулар on rahvas dagestanis...  Estonian  24375\n",
       "24324  آنچه مسلم است خراسان و اسفراین که شهرکی در آن ...   Persian  30268\n",
       "24325  sana yardım etmeye çalışıyordu ama söyleyebile...   Turkish   8012\n",
       "\n",
       "[24326 rows x 3 columns]"
      ]
     },
     "execution_count": 5,
     "metadata": {},
     "output_type": "execute_result"
    }
   ],
   "source": [
    "dfWithLabelNotNan=df[~df['Language'].isna()]\n",
    "dfWithLabelNotNan"
   ]
  },
  {
   "cell_type": "markdown",
   "id": "76d104ae",
   "metadata": {},
   "source": [
    "Extract only Text and Language"
   ]
  },
  {
   "cell_type": "code",
   "execution_count": 6,
   "id": "1fb3b4cb",
   "metadata": {},
   "outputs": [
    {
     "data": {
      "text/html": [
       "<div>\n",
       "<style scoped>\n",
       "    .dataframe tbody tr th:only-of-type {\n",
       "        vertical-align: middle;\n",
       "    }\n",
       "\n",
       "    .dataframe tbody tr th {\n",
       "        vertical-align: top;\n",
       "    }\n",
       "\n",
       "    .dataframe thead th {\n",
       "        text-align: right;\n",
       "    }\n",
       "</style>\n",
       "<table border=\"1\" class=\"dataframe\">\n",
       "  <thead>\n",
       "    <tr style=\"text-align: right;\">\n",
       "      <th></th>\n",
       "      <th>Text</th>\n",
       "      <th>Language</th>\n",
       "    </tr>\n",
       "  </thead>\n",
       "  <tbody>\n",
       "    <tr>\n",
       "      <th>0</th>\n",
       "      <td>şirket icra kurulu başkanı melih abdülhayoğlu ...</td>\n",
       "      <td>Turkish</td>\n",
       "    </tr>\n",
       "    <tr>\n",
       "      <th>1</th>\n",
       "      <td>매춘업의 공식화를 주장한 민원식은 \"우又 근경近頃 일본인이 주가 음식매점 등국내 도...</td>\n",
       "      <td>Korean</td>\n",
       "    </tr>\n",
       "    <tr>\n",
       "      <th>2</th>\n",
       "      <td>خلال عظاته ركز التعليم اللاهوتي للبابا على الش...</td>\n",
       "      <td>Arabic</td>\n",
       "    </tr>\n",
       "    <tr>\n",
       "      <th>3</th>\n",
       "      <td>soggin was born on  march  he took his first d...</td>\n",
       "      <td>English</td>\n",
       "    </tr>\n",
       "    <tr>\n",
       "      <th>4</th>\n",
       "      <td>kulturmejeriet är sedan mitten av -talet en vi...</td>\n",
       "      <td>Swedish</td>\n",
       "    </tr>\n",
       "    <tr>\n",
       "      <th>...</th>\n",
       "      <td>...</td>\n",
       "      <td>...</td>\n",
       "    </tr>\n",
       "    <tr>\n",
       "      <th>24321</th>\n",
       "      <td>\"cato kirjad\" catos letters on seeria esseesid...</td>\n",
       "      <td>Estonian</td>\n",
       "    </tr>\n",
       "    <tr>\n",
       "      <th>24322</th>\n",
       "      <td>Le Wikipedia Education Program[149] permet à d...</td>\n",
       "      <td>French</td>\n",
       "    </tr>\n",
       "    <tr>\n",
       "      <th>24323</th>\n",
       "      <td>agulid endanimetus агулар on rahvas dagestanis...</td>\n",
       "      <td>Estonian</td>\n",
       "    </tr>\n",
       "    <tr>\n",
       "      <th>24324</th>\n",
       "      <td>آنچه مسلم است خراسان و اسفراین که شهرکی در آن ...</td>\n",
       "      <td>Persian</td>\n",
       "    </tr>\n",
       "    <tr>\n",
       "      <th>24325</th>\n",
       "      <td>sana yardım etmeye çalışıyordu ama söyleyebile...</td>\n",
       "      <td>Turkish</td>\n",
       "    </tr>\n",
       "  </tbody>\n",
       "</table>\n",
       "<p>24326 rows × 2 columns</p>\n",
       "</div>"
      ],
      "text/plain": [
       "                                                    Text  Language\n",
       "0      şirket icra kurulu başkanı melih abdülhayoğlu ...   Turkish\n",
       "1      매춘업의 공식화를 주장한 민원식은 \"우又 근경近頃 일본인이 주가 음식매점 등국내 도...    Korean\n",
       "2      خلال عظاته ركز التعليم اللاهوتي للبابا على الش...    Arabic\n",
       "3      soggin was born on  march  he took his first d...   English\n",
       "4      kulturmejeriet är sedan mitten av -talet en vi...   Swedish\n",
       "...                                                  ...       ...\n",
       "24321  \"cato kirjad\" catos letters on seeria esseesid...  Estonian\n",
       "24322  Le Wikipedia Education Program[149] permet à d...    French\n",
       "24323  agulid endanimetus агулар on rahvas dagestanis...  Estonian\n",
       "24324  آنچه مسلم است خراسان و اسفراین که شهرکی در آن ...   Persian\n",
       "24325  sana yardım etmeye çalışıyordu ama söyleyebile...   Turkish\n",
       "\n",
       "[24326 rows x 2 columns]"
      ]
     },
     "execution_count": 6,
     "metadata": {},
     "output_type": "execute_result"
    }
   ],
   "source": [
    "#Features extractions\n",
    "df1 = dfWithLabelNotNan[['Text', 'Language']]\n",
    "df1"
   ]
  },
  {
   "cell_type": "markdown",
   "id": "f482729c",
   "metadata": {},
   "source": [
    "Text Encoding"
   ]
  },
  {
   "cell_type": "code",
   "execution_count": 7,
   "id": "edac74e7",
   "metadata": {},
   "outputs": [],
   "source": [
    "\n",
    "\n",
    "+text = df1['Text']\n",
    "cv = CountVectorizer()\n",
    "X = cv.fit_transform(text)"
   ]
  },
  {
   "cell_type": "markdown",
   "id": "fed2fc99",
   "metadata": {},
   "source": [
    "Labal Encoding "
   ]
  },
  {
   "cell_type": "code",
   "execution_count": 8,
   "id": "fc23fa77",
   "metadata": {},
   "outputs": [
    {
     "data": {
      "text/plain": [
       "array([26, 14,  0, ...,  5, 17, 26])"
      ]
     },
     "execution_count": 8,
     "metadata": {},
     "output_type": "execute_result"
    }
   ],
   "source": [
    "le = preprocessing.LabelEncoder()\n",
    "y= le.fit_transform(df1['Language']) \n",
    "y"
   ]
  },
  {
   "cell_type": "code",
   "execution_count": 67,
   "id": "0f950773",
   "metadata": {},
   "outputs": [
    {
     "data": {
      "text/html": [
       "<style>#sk-container-id-3 {color: black;background-color: white;}#sk-container-id-3 pre{padding: 0;}#sk-container-id-3 div.sk-toggleable {background-color: white;}#sk-container-id-3 label.sk-toggleable__label {cursor: pointer;display: block;width: 100%;margin-bottom: 0;padding: 0.3em;box-sizing: border-box;text-align: center;}#sk-container-id-3 label.sk-toggleable__label-arrow:before {content: \"▸\";float: left;margin-right: 0.25em;color: #696969;}#sk-container-id-3 label.sk-toggleable__label-arrow:hover:before {color: black;}#sk-container-id-3 div.sk-estimator:hover label.sk-toggleable__label-arrow:before {color: black;}#sk-container-id-3 div.sk-toggleable__content {max-height: 0;max-width: 0;overflow: hidden;text-align: left;background-color: #f0f8ff;}#sk-container-id-3 div.sk-toggleable__content pre {margin: 0.2em;color: black;border-radius: 0.25em;background-color: #f0f8ff;}#sk-container-id-3 input.sk-toggleable__control:checked~div.sk-toggleable__content {max-height: 200px;max-width: 100%;overflow: auto;}#sk-container-id-3 input.sk-toggleable__control:checked~label.sk-toggleable__label-arrow:before {content: \"▾\";}#sk-container-id-3 div.sk-estimator input.sk-toggleable__control:checked~label.sk-toggleable__label {background-color: #d4ebff;}#sk-container-id-3 div.sk-label input.sk-toggleable__control:checked~label.sk-toggleable__label {background-color: #d4ebff;}#sk-container-id-3 input.sk-hidden--visually {border: 0;clip: rect(1px 1px 1px 1px);clip: rect(1px, 1px, 1px, 1px);height: 1px;margin: -1px;overflow: hidden;padding: 0;position: absolute;width: 1px;}#sk-container-id-3 div.sk-estimator {font-family: monospace;background-color: #f0f8ff;border: 1px dotted black;border-radius: 0.25em;box-sizing: border-box;margin-bottom: 0.5em;}#sk-container-id-3 div.sk-estimator:hover {background-color: #d4ebff;}#sk-container-id-3 div.sk-parallel-item::after {content: \"\";width: 100%;border-bottom: 1px solid gray;flex-grow: 1;}#sk-container-id-3 div.sk-label:hover label.sk-toggleable__label {background-color: #d4ebff;}#sk-container-id-3 div.sk-serial::before {content: \"\";position: absolute;border-left: 1px solid gray;box-sizing: border-box;top: 0;bottom: 0;left: 50%;z-index: 0;}#sk-container-id-3 div.sk-serial {display: flex;flex-direction: column;align-items: center;background-color: white;padding-right: 0.2em;padding-left: 0.2em;position: relative;}#sk-container-id-3 div.sk-item {position: relative;z-index: 1;}#sk-container-id-3 div.sk-parallel {display: flex;align-items: stretch;justify-content: center;background-color: white;position: relative;}#sk-container-id-3 div.sk-item::before, #sk-container-id-3 div.sk-parallel-item::before {content: \"\";position: absolute;border-left: 1px solid gray;box-sizing: border-box;top: 0;bottom: 0;left: 50%;z-index: -1;}#sk-container-id-3 div.sk-parallel-item {display: flex;flex-direction: column;z-index: 1;position: relative;background-color: white;}#sk-container-id-3 div.sk-parallel-item:first-child::after {align-self: flex-end;width: 50%;}#sk-container-id-3 div.sk-parallel-item:last-child::after {align-self: flex-start;width: 50%;}#sk-container-id-3 div.sk-parallel-item:only-child::after {width: 0;}#sk-container-id-3 div.sk-dashed-wrapped {border: 1px dashed gray;margin: 0 0.4em 0.5em 0.4em;box-sizing: border-box;padding-bottom: 0.4em;background-color: white;}#sk-container-id-3 div.sk-label label {font-family: monospace;font-weight: bold;display: inline-block;line-height: 1.2em;}#sk-container-id-3 div.sk-label-container {text-align: center;}#sk-container-id-3 div.sk-container {/* jupyter's `normalize.less` sets `[hidden] { display: none; }` but bootstrap.min.css set `[hidden] { display: none !important; }` so we also need the `!important` here to be able to override the default hidden behavior on the sphinx rendered scikit-learn.org. See: https://github.com/scikit-learn/scikit-learn/issues/21755 */display: inline-block !important;position: relative;}#sk-container-id-3 div.sk-text-repr-fallback {display: none;}</style><div id=\"sk-container-id-3\" class=\"sk-top-container\"><div class=\"sk-text-repr-fallback\"><pre>LabelEncoder()</pre><b>In a Jupyter environment, please rerun this cell to show the HTML representation or trust the notebook. <br />On GitHub, the HTML representation is unable to render, please try loading this page with nbviewer.org.</b></div><div class=\"sk-container\" hidden><div class=\"sk-item\"><div class=\"sk-estimator sk-toggleable\"><input class=\"sk-toggleable__control sk-hidden--visually\" id=\"sk-estimator-id-3\" type=\"checkbox\" checked><label for=\"sk-estimator-id-3\" class=\"sk-toggleable__label sk-toggleable__label-arrow\">LabelEncoder</label><div class=\"sk-toggleable__content\"><pre>LabelEncoder()</pre></div></div></div></div></div>"
      ],
      "text/plain": [
       "LabelEncoder()"
      ]
     },
     "execution_count": 67,
     "metadata": {},
     "output_type": "execute_result"
    }
   ],
   "source": []
  },
  {
   "cell_type": "code",
   "execution_count": 12,
   "id": "720f24d1",
   "metadata": {},
   "outputs": [],
   "source": [
    "# Split Data into train and test\n",
    "X_train, X_test, y_train, y_test = train_test_split(X, y, test_size = 0.25, random_state = 42)"
   ]
  },
  {
   "cell_type": "markdown",
   "id": "de7fa10a",
   "metadata": {},
   "source": [
    " Naive Bayes"
   ]
  },
  {
   "cell_type": "code",
   "execution_count": 18,
   "id": "eaeccecd",
   "metadata": {},
   "outputs": [
    {
     "data": {
      "text/plain": [
       "'              precision    recall  f1-score   support\\n\\n           0       1.00      1.00      1.00       300\\n           1       0.89      0.50      0.64       199\\n           2       1.00      0.92      0.96        84\\n           3       0.98      1.00      0.99       310\\n           4       0.77      1.00      0.87       432\\n           5       0.99      0.97      0.98       200\\n           6       0.97      0.99      0.98       399\\n           7       0.97      0.99      0.98        92\\n           8       1.00      0.99      0.99        74\\n           9       0.99      0.98      0.99       197\\n          10       0.99      0.97      0.98       205\\n          11       0.98      0.92      0.95       138\\n          12       0.70      0.80      0.75       186\\n          13       1.00      0.97      0.98        87\\n          14       1.00      0.97      0.99       229\\n          15       1.00      0.89      0.94       201\\n          16       0.93      0.95      0.94       120\\n          17       1.00      1.00      1.00       227\\n          18       0.99      0.94      0.96       204\\n          19       1.00      0.96      0.98       179\\n          20       1.00      0.99      1.00       207\\n          21       0.99      0.99      0.99       335\\n          22       0.97      0.99      0.98       349\\n          23       0.97      1.00      0.98       194\\n          24       1.00      0.99      0.99       273\\n          25       1.00      0.97      0.99       188\\n          26       0.98      0.95      0.97       278\\n          27       1.00      1.00      1.00       195\\n\\n    accuracy                           0.96      6082\\n   macro avg       0.97      0.95      0.96      6082\\nweighted avg       0.96      0.96      0.96      6082\\n'"
      ]
     },
     "execution_count": 18,
     "metadata": {},
     "output_type": "execute_result"
    }
   ],
   "source": [
    "# Train with Naive Bayes\n",
    "NaiveBayes= MultinomialNB()\n",
    "NaiveBayes.fit(X_train, y_train)\n",
    "\n",
    "# Test with Naive Bayes and compute the score\n",
    "NaiveBayes.score(X_test, y_test)\n",
    "y_predNB =NaiveBayes.predict(X_test)\n",
    "# Plot classification report\n",
    "classification_report(y_test,y_predNB)"
   ]
  },
  {
   "cell_type": "markdown",
   "id": "6887d97e",
   "metadata": {},
   "source": [
    "Logistic Regression"
   ]
  },
  {
   "cell_type": "code",
   "execution_count": 19,
   "id": "049d66e0",
   "metadata": {},
   "outputs": [
    {
     "data": {
      "text/plain": [
       "'              precision    recall  f1-score   support\\n\\n           0       1.00      0.97      0.98       300\\n           1       0.86      0.48      0.62       199\\n           2       0.99      0.88      0.93        84\\n           3       0.99      0.98      0.99       310\\n           4       0.88      0.97      0.93       432\\n           5       0.99      0.93      0.96       200\\n           6       0.97      0.98      0.97       399\\n           7       0.99      0.96      0.97        92\\n           8       1.00      0.95      0.97        74\\n           9       1.00      0.97      0.98       197\\n          10       1.00      0.97      0.99       205\\n          11       0.95      0.91      0.93       138\\n          12       0.44      0.89      0.59       186\\n          13       1.00      0.95      0.98        87\\n          14       1.00      0.96      0.98       229\\n          15       0.96      0.91      0.94       201\\n          16       1.00      0.88      0.94       120\\n          17       1.00      1.00      1.00       227\\n          18       0.99      0.98      0.98       204\\n          19       1.00      0.95      0.97       179\\n          20       1.00      0.98      0.99       207\\n          21       0.99      0.96      0.98       335\\n          22       0.96      0.96      0.96       349\\n          23       1.00      0.99      0.99       194\\n          24       1.00      0.98      0.99       273\\n          25       1.00      0.96      0.98       188\\n          26       0.99      0.94      0.96       278\\n          27       1.00      0.99      1.00       195\\n\\n    accuracy                           0.94      6082\\n   macro avg       0.96      0.94      0.94      6082\\nweighted avg       0.96      0.94      0.95      6082\\n'"
      ]
     },
     "execution_count": 19,
     "metadata": {},
     "output_type": "execute_result"
    }
   ],
   "source": [
    "# Train with Logistic Regression\n",
    "logisticRegr = LogisticRegression()\n",
    "logisticRegr.fit(X_train, y_train)\n",
    "\n",
    "# Test with Naive Bayes and compute the score\n",
    "y_predRL =logisticRegr.predict(X_test)\n",
    "logisticRegr.score(X_test, y_test)\n",
    "\n",
    "# Plot classification report\n",
    "classification_report(y_test,y_predRL)"
   ]
  },
  {
   "cell_type": "raw",
   "id": "3a217384",
   "metadata": {},
   "source": [
    "SVM"
   ]
  },
  {
   "cell_type": "code",
   "execution_count": 20,
   "id": "171b86f1",
   "metadata": {},
   "outputs": [
    {
     "data": {
      "text/plain": [
       "'              precision    recall  f1-score   support\\n\\n           0       1.00      0.84      0.91       300\\n           1       0.46      0.27      0.34       199\\n           2       1.00      0.63      0.77        84\\n           3       1.00      0.87      0.93       310\\n           4       0.85      0.90      0.88       432\\n           5       0.99      0.85      0.91       200\\n           6       0.97      0.90      0.93       399\\n           7       0.99      0.80      0.89        92\\n           8       1.00      0.57      0.72        74\\n           9       1.00      0.92      0.96       197\\n          10       0.99      0.88      0.94       205\\n          11       0.99      0.77      0.87       138\\n          12       0.21      0.89      0.34       186\\n          13       1.00      0.56      0.72        87\\n          14       0.89      0.91      0.90       229\\n          15       0.99      0.84      0.91       201\\n          16       1.00      0.69      0.82       120\\n          17       1.00      0.90      0.95       227\\n          18       1.00      0.91      0.95       204\\n          19       0.45      0.94      0.61       179\\n          20       1.00      0.92      0.96       207\\n          21       1.00      0.76      0.86       335\\n          22       0.97      0.85      0.91       349\\n          23       1.00      0.96      0.98       194\\n          24       1.00      0.88      0.94       273\\n          25       1.00      0.89      0.94       188\\n          26       1.00      0.74      0.85       278\\n          27       1.00      0.89      0.94       195\\n\\n    accuracy                           0.84      6082\\n   macro avg       0.92      0.81      0.84      6082\\nweighted avg       0.92      0.84      0.86      6082\\n'"
      ]
     },
     "execution_count": 20,
     "metadata": {},
     "output_type": "execute_result"
    }
   ],
   "source": [
    "#Train with SVM\n",
    "SVM= svm.SVC()\n",
    "SVM.fit(X_train,y_train)\n",
    "\n",
    "#Test with SVM and compute the score\n",
    "y_predSVM=SVM.predict(X_test)\n",
    "SVM.score(X_test, y_test)\n",
    "\n",
    "#Plot classification report\n",
    "classification_report(y_test,y_predSVM)"
   ]
  },
  {
   "cell_type": "markdown",
   "id": "e82e7915",
   "metadata": {},
   "source": [
    "Random Forest"
   ]
  },
  {
   "cell_type": "code",
   "execution_count": null,
   "id": "860ed5e0",
   "metadata": {},
   "outputs": [],
   "source": [
    "# Train with Random Forest\n",
    "RandomForest=RandomForestClassifier(n_estimators=100)\n",
    "RandomForest.fit(X_train,y_train)\n",
    "\n",
    "# Test with Random Forest and compute the score\n",
    "y_predRF=RandomForest.predict(X_test)\n",
    "RandomForest.score(X_test, y_test)\n",
    "\n",
    "# Plot classification report\n",
    "classification_report(y_test,y_predRF)"
   ]
  },
  {
   "cell_type": "code",
   "execution_count": null,
   "id": "4599defe",
   "metadata": {},
   "outputs": [],
   "source": []
  }
 ],
 "metadata": {
  "kernelspec": {
   "display_name": "Python 3 (ipykernel)",
   "language": "python",
   "name": "python3"
  },
  "language_info": {
   "codemirror_mode": {
    "name": "ipython",
    "version": 3
   },
   "file_extension": ".py",
   "mimetype": "text/x-python",
   "name": "python",
   "nbconvert_exporter": "python",
   "pygments_lexer": "ipython3",
   "version": "3.9.7"
  }
 },
 "nbformat": 4,
 "nbformat_minor": 5
}

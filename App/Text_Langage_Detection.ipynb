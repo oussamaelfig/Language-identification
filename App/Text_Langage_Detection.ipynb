{
 "cells": [
  {
   "cell_type": "markdown",
   "id": "3bbe79a4",
   "metadata": {},
   "source": [
    "Plugins Importing\n"
   ]
  },
  {
   "cell_type": "code",
   "execution_count": 35,
   "id": "57aee355",
   "metadata": {},
   "outputs": [],
   "source": [
    "import pandas as pd\n",
    "from nltk.corpus import stopwords\n",
    "from sklearn.feature_extraction.text import CountVectorizer\n",
    "import nltk\n",
    "from nltk import sent_tokenize\n",
    "from nltk import word_tokenize\n",
    "from sklearn import preprocessing \n",
    "from sklearn.model_selection import train_test_split\n",
    "from sklearn.naive_bayes import MultinomialNB\n",
    "from sklearn.linear_model import LogisticRegression\n",
    "from sklearn import svm\n",
    "from sklearn.model_selection import train_test_split\n",
    "from sklearn.metrics import classification_report\n",
    "from sklearn.ensemble import RandomForestClassifier\n",
    "from sklearn.pipeline import Pipeline\n",
    "from nltk.corpus import stopwords\n",
    "import nltk\n",
    "from nltk.tokenize import word_tokenize\n",
    "from nltk.corpus import stopwords\n",
    "from xgboost import XGBClassifier"
   ]
  },
  {
   "cell_type": "markdown",
   "id": "1930aa4f",
   "metadata": {},
   "source": [
    "Data importing "
   ]
  },
  {
   "cell_type": "code",
   "execution_count": 26,
   "id": "89775cde",
   "metadata": {},
   "outputs": [],
   "source": [
    "#Data importing \n",
    "df= pd.read_csv(\"../language-identification-datasets.csv\")\n"
   ]
  },
  {
   "cell_type": "markdown",
   "id": "0f9dc51d",
   "metadata": {},
   "source": [
    "Extract test data set for submission "
   ]
  },
  {
   "cell_type": "code",
   "execution_count": 27,
   "id": "27c6722d",
   "metadata": {},
   "outputs": [
    {
     "data": {
      "text/html": [
       "<div>\n",
       "<style scoped>\n",
       "    .dataframe tbody tr th:only-of-type {\n",
       "        vertical-align: middle;\n",
       "    }\n",
       "\n",
       "    .dataframe tbody tr th {\n",
       "        vertical-align: top;\n",
       "    }\n",
       "\n",
       "    .dataframe thead th {\n",
       "        text-align: right;\n",
       "    }\n",
       "</style>\n",
       "<table border=\"1\" class=\"dataframe\">\n",
       "  <thead>\n",
       "    <tr style=\"text-align: right;\">\n",
       "      <th></th>\n",
       "      <th>Text</th>\n",
       "      <th>Language</th>\n",
       "      <th>ID</th>\n",
       "    </tr>\n",
       "  </thead>\n",
       "  <tbody>\n",
       "    <tr>\n",
       "      <th>24326</th>\n",
       "      <td>[6] Encyclopædia Britannica Inc. şirketi ise a...</td>\n",
       "      <td>NaN</td>\n",
       "      <td>7823</td>\n",
       "    </tr>\n",
       "    <tr>\n",
       "      <th>24327</th>\n",
       "      <td>disculparse.</td>\n",
       "      <td>NaN</td>\n",
       "      <td>5551</td>\n",
       "    </tr>\n",
       "    <tr>\n",
       "      <th>24328</th>\n",
       "      <td>em  bon jovi lançou o álbum have a nice day a ...</td>\n",
       "      <td>NaN</td>\n",
       "      <td>12728</td>\n",
       "    </tr>\n",
       "    <tr>\n",
       "      <th>24329</th>\n",
       "      <td>mai fostul președinte egiptean mohamed morsi ...</td>\n",
       "      <td>NaN</td>\n",
       "      <td>14197</td>\n",
       "    </tr>\n",
       "    <tr>\n",
       "      <th>24330</th>\n",
       "      <td>otok škulj är en ö i kroatien den ligger i län...</td>\n",
       "      <td>NaN</td>\n",
       "      <td>18982</td>\n",
       "    </tr>\n",
       "    <tr>\n",
       "      <th>...</th>\n",
       "      <td>...</td>\n",
       "      <td>...</td>\n",
       "      <td>...</td>\n",
       "    </tr>\n",
       "    <tr>\n",
       "      <th>31007</th>\n",
       "      <td>그의 조선인 참정권 운동은 점차 조선인 지식인들 일각에서 호응을 얻기 시작하였다 민...</td>\n",
       "      <td>NaN</td>\n",
       "      <td>29033</td>\n",
       "    </tr>\n",
       "    <tr>\n",
       "      <th>31008</th>\n",
       "      <td>มีความยาวสูงสุดราว  เซนติเมตร เป็นปลาที่พบกระจ...</td>\n",
       "      <td>NaN</td>\n",
       "      <td>15461</td>\n",
       "    </tr>\n",
       "    <tr>\n",
       "      <th>31009</th>\n",
       "      <td>เอเธนส์มีประชาชนชายเพียงแค่  คน แต่มีหลายพันที...</td>\n",
       "      <td>NaN</td>\n",
       "      <td>15441</td>\n",
       "    </tr>\n",
       "    <tr>\n",
       "      <th>31010</th>\n",
       "      <td>marty ally y buttons se encuentran en el camin...</td>\n",
       "      <td>NaN</td>\n",
       "      <td>16450</td>\n",
       "    </tr>\n",
       "    <tr>\n",
       "      <th>31011</th>\n",
       "      <td>วัฏจักรเหล็กเป็นการหมุนเวียนของเหล็กในสิ่งแวดล...</td>\n",
       "      <td>NaN</td>\n",
       "      <td>19697</td>\n",
       "    </tr>\n",
       "  </tbody>\n",
       "</table>\n",
       "<p>6686 rows × 3 columns</p>\n",
       "</div>"
      ],
      "text/plain": [
       "                                                    Text Language     ID\n",
       "24326  [6] Encyclopædia Britannica Inc. şirketi ise a...      NaN   7823\n",
       "24327                                       disculparse.      NaN   5551\n",
       "24328  em  bon jovi lançou o álbum have a nice day a ...      NaN  12728\n",
       "24329   mai fostul președinte egiptean mohamed morsi ...      NaN  14197\n",
       "24330  otok škulj är en ö i kroatien den ligger i län...      NaN  18982\n",
       "...                                                  ...      ...    ...\n",
       "31007  그의 조선인 참정권 운동은 점차 조선인 지식인들 일각에서 호응을 얻기 시작하였다 민...      NaN  29033\n",
       "31008  มีความยาวสูงสุดราว  เซนติเมตร เป็นปลาที่พบกระจ...      NaN  15461\n",
       "31009  เอเธนส์มีประชาชนชายเพียงแค่  คน แต่มีหลายพันที...      NaN  15441\n",
       "31010  marty ally y buttons se encuentran en el camin...      NaN  16450\n",
       "31011  วัฏจักรเหล็กเป็นการหมุนเวียนของเหล็กในสิ่งแวดล...      NaN  19697\n",
       "\n",
       "[6686 rows x 3 columns]"
      ]
     },
     "execution_count": 27,
     "metadata": {},
     "output_type": "execute_result"
    }
   ],
   "source": [
    "dfWithLabelNan=df[df['Language'].isna()]\n",
    "dfWithLabelNan"
   ]
  },
  {
   "cell_type": "markdown",
   "id": "5197e8fb",
   "metadata": {},
   "source": [
    "Extract Data set for training et test model"
   ]
  },
  {
   "cell_type": "code",
   "execution_count": 28,
   "id": "1338d825",
   "metadata": {},
   "outputs": [
    {
     "data": {
      "text/html": [
       "<div>\n",
       "<style scoped>\n",
       "    .dataframe tbody tr th:only-of-type {\n",
       "        vertical-align: middle;\n",
       "    }\n",
       "\n",
       "    .dataframe tbody tr th {\n",
       "        vertical-align: top;\n",
       "    }\n",
       "\n",
       "    .dataframe thead th {\n",
       "        text-align: right;\n",
       "    }\n",
       "</style>\n",
       "<table border=\"1\" class=\"dataframe\">\n",
       "  <thead>\n",
       "    <tr style=\"text-align: right;\">\n",
       "      <th></th>\n",
       "      <th>Text</th>\n",
       "      <th>Language</th>\n",
       "      <th>ID</th>\n",
       "    </tr>\n",
       "  </thead>\n",
       "  <tbody>\n",
       "    <tr>\n",
       "      <th>0</th>\n",
       "      <td>şirket icra kurulu başkanı melih abdülhayoğlu ...</td>\n",
       "      <td>Turkish</td>\n",
       "      <td>26110</td>\n",
       "    </tr>\n",
       "    <tr>\n",
       "      <th>1</th>\n",
       "      <td>매춘업의 공식화를 주장한 민원식은 \"우又 근경近頃 일본인이 주가 음식매점 등국내 도...</td>\n",
       "      <td>Korean</td>\n",
       "      <td>26862</td>\n",
       "    </tr>\n",
       "    <tr>\n",
       "      <th>2</th>\n",
       "      <td>خلال عظاته ركز التعليم اللاهوتي للبابا على الش...</td>\n",
       "      <td>Arabic</td>\n",
       "      <td>20562</td>\n",
       "    </tr>\n",
       "    <tr>\n",
       "      <th>3</th>\n",
       "      <td>soggin was born on  march  he took his first d...</td>\n",
       "      <td>English</td>\n",
       "      <td>14298</td>\n",
       "    </tr>\n",
       "    <tr>\n",
       "      <th>4</th>\n",
       "      <td>kulturmejeriet är sedan mitten av -talet en vi...</td>\n",
       "      <td>Swedish</td>\n",
       "      <td>17338</td>\n",
       "    </tr>\n",
       "    <tr>\n",
       "      <th>...</th>\n",
       "      <td>...</td>\n",
       "      <td>...</td>\n",
       "      <td>...</td>\n",
       "    </tr>\n",
       "    <tr>\n",
       "      <th>24321</th>\n",
       "      <td>\"cato kirjad\" catos letters on seeria esseesid...</td>\n",
       "      <td>Estonian</td>\n",
       "      <td>21054</td>\n",
       "    </tr>\n",
       "    <tr>\n",
       "      <th>24322</th>\n",
       "      <td>Le Wikipedia Education Program[149] permet à d...</td>\n",
       "      <td>French</td>\n",
       "      <td>3788</td>\n",
       "    </tr>\n",
       "    <tr>\n",
       "      <th>24323</th>\n",
       "      <td>agulid endanimetus агулар on rahvas dagestanis...</td>\n",
       "      <td>Estonian</td>\n",
       "      <td>24375</td>\n",
       "    </tr>\n",
       "    <tr>\n",
       "      <th>24324</th>\n",
       "      <td>آنچه مسلم است خراسان و اسفراین که شهرکی در آن ...</td>\n",
       "      <td>Persian</td>\n",
       "      <td>30268</td>\n",
       "    </tr>\n",
       "    <tr>\n",
       "      <th>24325</th>\n",
       "      <td>sana yardım etmeye çalışıyordu ama söyleyebile...</td>\n",
       "      <td>Turkish</td>\n",
       "      <td>8012</td>\n",
       "    </tr>\n",
       "  </tbody>\n",
       "</table>\n",
       "<p>24326 rows × 3 columns</p>\n",
       "</div>"
      ],
      "text/plain": [
       "                                                    Text  Language     ID\n",
       "0      şirket icra kurulu başkanı melih abdülhayoğlu ...   Turkish  26110\n",
       "1      매춘업의 공식화를 주장한 민원식은 \"우又 근경近頃 일본인이 주가 음식매점 등국내 도...    Korean  26862\n",
       "2      خلال عظاته ركز التعليم اللاهوتي للبابا على الش...    Arabic  20562\n",
       "3      soggin was born on  march  he took his first d...   English  14298\n",
       "4      kulturmejeriet är sedan mitten av -talet en vi...   Swedish  17338\n",
       "...                                                  ...       ...    ...\n",
       "24321  \"cato kirjad\" catos letters on seeria esseesid...  Estonian  21054\n",
       "24322  Le Wikipedia Education Program[149] permet à d...    French   3788\n",
       "24323  agulid endanimetus агулар on rahvas dagestanis...  Estonian  24375\n",
       "24324  آنچه مسلم است خراسان و اسفراین که شهرکی در آن ...   Persian  30268\n",
       "24325  sana yardım etmeye çalışıyordu ama söyleyebile...   Turkish   8012\n",
       "\n",
       "[24326 rows x 3 columns]"
      ]
     },
     "execution_count": 28,
     "metadata": {},
     "output_type": "execute_result"
    }
   ],
   "source": [
    "dfWithLabelNotNan=df[~df['Language'].isna()]\n",
    "dfWithLabelNotNan"
   ]
  },
  {
   "cell_type": "markdown",
   "id": "76d104ae",
   "metadata": {},
   "source": [
    "Extract only Text and Language"
   ]
  },
  {
   "cell_type": "code",
   "execution_count": 29,
   "id": "1fb3b4cb",
   "metadata": {},
   "outputs": [
    {
     "data": {
      "text/html": [
       "<div>\n",
       "<style scoped>\n",
       "    .dataframe tbody tr th:only-of-type {\n",
       "        vertical-align: middle;\n",
       "    }\n",
       "\n",
       "    .dataframe tbody tr th {\n",
       "        vertical-align: top;\n",
       "    }\n",
       "\n",
       "    .dataframe thead th {\n",
       "        text-align: right;\n",
       "    }\n",
       "</style>\n",
       "<table border=\"1\" class=\"dataframe\">\n",
       "  <thead>\n",
       "    <tr style=\"text-align: right;\">\n",
       "      <th></th>\n",
       "      <th>Text</th>\n",
       "      <th>Language</th>\n",
       "    </tr>\n",
       "  </thead>\n",
       "  <tbody>\n",
       "    <tr>\n",
       "      <th>0</th>\n",
       "      <td>şirket icra kurulu başkanı melih abdülhayoğlu ...</td>\n",
       "      <td>Turkish</td>\n",
       "    </tr>\n",
       "    <tr>\n",
       "      <th>1</th>\n",
       "      <td>매춘업의 공식화를 주장한 민원식은 \"우又 근경近頃 일본인이 주가 음식매점 등국내 도...</td>\n",
       "      <td>Korean</td>\n",
       "    </tr>\n",
       "    <tr>\n",
       "      <th>2</th>\n",
       "      <td>خلال عظاته ركز التعليم اللاهوتي للبابا على الش...</td>\n",
       "      <td>Arabic</td>\n",
       "    </tr>\n",
       "    <tr>\n",
       "      <th>3</th>\n",
       "      <td>soggin was born on  march  he took his first d...</td>\n",
       "      <td>English</td>\n",
       "    </tr>\n",
       "    <tr>\n",
       "      <th>4</th>\n",
       "      <td>kulturmejeriet är sedan mitten av -talet en vi...</td>\n",
       "      <td>Swedish</td>\n",
       "    </tr>\n",
       "    <tr>\n",
       "      <th>...</th>\n",
       "      <td>...</td>\n",
       "      <td>...</td>\n",
       "    </tr>\n",
       "    <tr>\n",
       "      <th>24321</th>\n",
       "      <td>\"cato kirjad\" catos letters on seeria esseesid...</td>\n",
       "      <td>Estonian</td>\n",
       "    </tr>\n",
       "    <tr>\n",
       "      <th>24322</th>\n",
       "      <td>Le Wikipedia Education Program[149] permet à d...</td>\n",
       "      <td>French</td>\n",
       "    </tr>\n",
       "    <tr>\n",
       "      <th>24323</th>\n",
       "      <td>agulid endanimetus агулар on rahvas dagestanis...</td>\n",
       "      <td>Estonian</td>\n",
       "    </tr>\n",
       "    <tr>\n",
       "      <th>24324</th>\n",
       "      <td>آنچه مسلم است خراسان و اسفراین که شهرکی در آن ...</td>\n",
       "      <td>Persian</td>\n",
       "    </tr>\n",
       "    <tr>\n",
       "      <th>24325</th>\n",
       "      <td>sana yardım etmeye çalışıyordu ama söyleyebile...</td>\n",
       "      <td>Turkish</td>\n",
       "    </tr>\n",
       "  </tbody>\n",
       "</table>\n",
       "<p>24326 rows × 2 columns</p>\n",
       "</div>"
      ],
      "text/plain": [
       "                                                    Text  Language\n",
       "0      şirket icra kurulu başkanı melih abdülhayoğlu ...   Turkish\n",
       "1      매춘업의 공식화를 주장한 민원식은 \"우又 근경近頃 일본인이 주가 음식매점 등국내 도...    Korean\n",
       "2      خلال عظاته ركز التعليم اللاهوتي للبابا على الش...    Arabic\n",
       "3      soggin was born on  march  he took his first d...   English\n",
       "4      kulturmejeriet är sedan mitten av -talet en vi...   Swedish\n",
       "...                                                  ...       ...\n",
       "24321  \"cato kirjad\" catos letters on seeria esseesid...  Estonian\n",
       "24322  Le Wikipedia Education Program[149] permet à d...    French\n",
       "24323  agulid endanimetus агулар on rahvas dagestanis...  Estonian\n",
       "24324  آنچه مسلم است خراسان و اسفراین که شهرکی در آن ...   Persian\n",
       "24325  sana yardım etmeye çalışıyordu ama söyleyebile...   Turkish\n",
       "\n",
       "[24326 rows x 2 columns]"
      ]
     },
     "execution_count": 29,
     "metadata": {},
     "output_type": "execute_result"
    }
   ],
   "source": [
    "#Features extractions\n",
    "df1 = dfWithLabelNotNan[['Text', 'Language']]\n",
    "df1"
   ]
  },
  {
   "cell_type": "markdown",
   "id": "f482729c",
   "metadata": {},
   "source": [
    "Text Encoding"
   ]
  },
  {
   "cell_type": "code",
   "execution_count": 30,
   "id": "edac74e7",
   "metadata": {},
   "outputs": [],
   "source": [
    "\n",
    "\n",
    "text = df1['Text']\n",
    "cv = CountVectorizer()\n",
    "X = cv.fit_transform(text)"
   ]
  },
  {
   "cell_type": "markdown",
   "id": "fed2fc99",
   "metadata": {},
   "source": [
    "Labal Encoding "
   ]
  },
  {
   "cell_type": "code",
   "execution_count": 31,
   "id": "fc23fa77",
   "metadata": {},
   "outputs": [
    {
     "data": {
      "text/plain": [
       "array([26, 14,  0, ...,  5, 17, 26])"
      ]
     },
     "execution_count": 31,
     "metadata": {},
     "output_type": "execute_result"
    }
   ],
   "source": [
    "le = preprocessing.LabelEncoder()\n",
    "y= le.fit_transform(df1['Language']) \n",
    "y"
   ]
  },
  {
   "cell_type": "code",
   "execution_count": null,
   "id": "0f950773",
   "metadata": {},
   "outputs": [],
   "source": []
  },
  {
   "cell_type": "code",
   "execution_count": 32,
   "id": "720f24d1",
   "metadata": {},
   "outputs": [],
   "source": [
    "# Split Data into train and test\n",
    "X_train, X_test, y_train, y_test = train_test_split(X, y, test_size = 0.25, random_state = 42)"
   ]
  },
  {
   "cell_type": "markdown",
   "id": "de7fa10a",
   "metadata": {},
   "source": [
    " Naive Bayes"
   ]
  },
  {
   "cell_type": "code",
   "execution_count": 33,
   "id": "eaeccecd",
   "metadata": {},
   "outputs": [
    {
     "data": {
      "text/plain": [
       "'              precision    recall  f1-score   support\\n\\n           0       1.00      1.00      1.00       300\\n           1       0.89      0.50      0.64       199\\n           2       1.00      0.92      0.96        84\\n           3       0.98      1.00      0.99       310\\n           4       0.77      1.00      0.87       432\\n           5       0.99      0.97      0.98       200\\n           6       0.97      0.99      0.98       399\\n           7       0.97      0.99      0.98        92\\n           8       1.00      0.99      0.99        74\\n           9       0.99      0.98      0.99       197\\n          10       0.99      0.97      0.98       205\\n          11       0.98      0.92      0.95       138\\n          12       0.70      0.80      0.75       186\\n          13       1.00      0.97      0.98        87\\n          14       1.00      0.97      0.99       229\\n          15       1.00      0.89      0.94       201\\n          16       0.93      0.95      0.94       120\\n          17       1.00      1.00      1.00       227\\n          18       0.99      0.94      0.96       204\\n          19       1.00      0.96      0.98       179\\n          20       1.00      0.99      1.00       207\\n          21       0.99      0.99      0.99       335\\n          22       0.97      0.99      0.98       349\\n          23       0.97      1.00      0.98       194\\n          24       1.00      0.99      0.99       273\\n          25       1.00      0.97      0.99       188\\n          26       0.98      0.95      0.97       278\\n          27       1.00      1.00      1.00       195\\n\\n    accuracy                           0.96      6082\\n   macro avg       0.97      0.95      0.96      6082\\nweighted avg       0.96      0.96      0.96      6082\\n'"
      ]
     },
     "execution_count": 33,
     "metadata": {},
     "output_type": "execute_result"
    }
   ],
   "source": [
    "# Train with Naive Bayes\n",
    "NaiveBayes= MultinomialNB()\n",
    "NaiveBayes.fit(X_train, y_train)\n",
    "\n",
    "# Test with Naive Bayes and compute the score\n",
    "NaiveBayes.score(X_test, y_test)\n",
    "y_predNB =NaiveBayes.predict(X_test)\n",
    "# Plot classification report\n",
    "classification_report(y_test,y_predNB)"
   ]
  },
  {
   "cell_type": "markdown",
   "id": "6887d97e",
   "metadata": {},
   "source": [
    "Logistic Regression"
   ]
  },
  {
   "cell_type": "code",
   "execution_count": 34,
   "id": "049d66e0",
   "metadata": {},
   "outputs": [
    {
     "ename": "KeyboardInterrupt",
     "evalue": "",
     "output_type": "error",
     "traceback": [
      "\u001b[1;31m---------------------------------------------------------------------------\u001b[0m",
      "\u001b[1;31mKeyboardInterrupt\u001b[0m                         Traceback (most recent call last)",
      "Cell \u001b[1;32mIn [34], line 3\u001b[0m\n\u001b[0;32m      1\u001b[0m \u001b[39m# Train with Logistic Regression\u001b[39;00m\n\u001b[0;32m      2\u001b[0m logisticRegr \u001b[39m=\u001b[39m LogisticRegression()\n\u001b[1;32m----> 3\u001b[0m logisticRegr\u001b[39m.\u001b[39;49mfit(X_train, y_train)\n\u001b[0;32m      5\u001b[0m \u001b[39m# Test with Naive Bayes and compute the score\u001b[39;00m\n\u001b[0;32m      6\u001b[0m y_predRL \u001b[39m=\u001b[39mlogisticRegr\u001b[39m.\u001b[39mpredict(X_test)\n",
      "File \u001b[1;32m~\\AppData\\Local\\Packages\\PythonSoftwareFoundation.Python.3.10_qbz5n2kfra8p0\\LocalCache\\local-packages\\Python310\\site-packages\\sklearn\\linear_model\\_logistic.py:1233\u001b[0m, in \u001b[0;36mLogisticRegression.fit\u001b[1;34m(self, X, y, sample_weight)\u001b[0m\n\u001b[0;32m   1230\u001b[0m \u001b[39melse\u001b[39;00m:\n\u001b[0;32m   1231\u001b[0m     n_threads \u001b[39m=\u001b[39m \u001b[39m1\u001b[39m\n\u001b[1;32m-> 1233\u001b[0m fold_coefs_ \u001b[39m=\u001b[39m Parallel(n_jobs\u001b[39m=\u001b[39;49m\u001b[39mself\u001b[39;49m\u001b[39m.\u001b[39;49mn_jobs, verbose\u001b[39m=\u001b[39;49m\u001b[39mself\u001b[39;49m\u001b[39m.\u001b[39;49mverbose, prefer\u001b[39m=\u001b[39;49mprefer)(\n\u001b[0;32m   1234\u001b[0m     path_func(\n\u001b[0;32m   1235\u001b[0m         X,\n\u001b[0;32m   1236\u001b[0m         y,\n\u001b[0;32m   1237\u001b[0m         pos_class\u001b[39m=\u001b[39;49mclass_,\n\u001b[0;32m   1238\u001b[0m         Cs\u001b[39m=\u001b[39;49m[C_],\n\u001b[0;32m   1239\u001b[0m         l1_ratio\u001b[39m=\u001b[39;49m\u001b[39mself\u001b[39;49m\u001b[39m.\u001b[39;49ml1_ratio,\n\u001b[0;32m   1240\u001b[0m         fit_intercept\u001b[39m=\u001b[39;49m\u001b[39mself\u001b[39;49m\u001b[39m.\u001b[39;49mfit_intercept,\n\u001b[0;32m   1241\u001b[0m         tol\u001b[39m=\u001b[39;49m\u001b[39mself\u001b[39;49m\u001b[39m.\u001b[39;49mtol,\n\u001b[0;32m   1242\u001b[0m         verbose\u001b[39m=\u001b[39;49m\u001b[39mself\u001b[39;49m\u001b[39m.\u001b[39;49mverbose,\n\u001b[0;32m   1243\u001b[0m         solver\u001b[39m=\u001b[39;49msolver,\n\u001b[0;32m   1244\u001b[0m         multi_class\u001b[39m=\u001b[39;49mmulti_class,\n\u001b[0;32m   1245\u001b[0m         max_iter\u001b[39m=\u001b[39;49m\u001b[39mself\u001b[39;49m\u001b[39m.\u001b[39;49mmax_iter,\n\u001b[0;32m   1246\u001b[0m         class_weight\u001b[39m=\u001b[39;49m\u001b[39mself\u001b[39;49m\u001b[39m.\u001b[39;49mclass_weight,\n\u001b[0;32m   1247\u001b[0m         check_input\u001b[39m=\u001b[39;49m\u001b[39mFalse\u001b[39;49;00m,\n\u001b[0;32m   1248\u001b[0m         random_state\u001b[39m=\u001b[39;49m\u001b[39mself\u001b[39;49m\u001b[39m.\u001b[39;49mrandom_state,\n\u001b[0;32m   1249\u001b[0m         coef\u001b[39m=\u001b[39;49mwarm_start_coef_,\n\u001b[0;32m   1250\u001b[0m         penalty\u001b[39m=\u001b[39;49mpenalty,\n\u001b[0;32m   1251\u001b[0m         max_squared_sum\u001b[39m=\u001b[39;49mmax_squared_sum,\n\u001b[0;32m   1252\u001b[0m         sample_weight\u001b[39m=\u001b[39;49msample_weight,\n\u001b[0;32m   1253\u001b[0m         n_threads\u001b[39m=\u001b[39;49mn_threads,\n\u001b[0;32m   1254\u001b[0m     )\n\u001b[0;32m   1255\u001b[0m     \u001b[39mfor\u001b[39;49;00m class_, warm_start_coef_ \u001b[39min\u001b[39;49;00m \u001b[39mzip\u001b[39;49m(classes_, warm_start_coef)\n\u001b[0;32m   1256\u001b[0m )\n\u001b[0;32m   1258\u001b[0m fold_coefs_, _, n_iter_ \u001b[39m=\u001b[39m \u001b[39mzip\u001b[39m(\u001b[39m*\u001b[39mfold_coefs_)\n\u001b[0;32m   1259\u001b[0m \u001b[39mself\u001b[39m\u001b[39m.\u001b[39mn_iter_ \u001b[39m=\u001b[39m np\u001b[39m.\u001b[39masarray(n_iter_, dtype\u001b[39m=\u001b[39mnp\u001b[39m.\u001b[39mint32)[:, \u001b[39m0\u001b[39m]\n",
      "File \u001b[1;32m~\\AppData\\Local\\Packages\\PythonSoftwareFoundation.Python.3.10_qbz5n2kfra8p0\\LocalCache\\local-packages\\Python310\\site-packages\\joblib\\parallel.py:1085\u001b[0m, in \u001b[0;36mParallel.__call__\u001b[1;34m(self, iterable)\u001b[0m\n\u001b[0;32m   1076\u001b[0m \u001b[39mtry\u001b[39;00m:\n\u001b[0;32m   1077\u001b[0m     \u001b[39m# Only set self._iterating to True if at least a batch\u001b[39;00m\n\u001b[0;32m   1078\u001b[0m     \u001b[39m# was dispatched. In particular this covers the edge\u001b[39;00m\n\u001b[1;32m   (...)\u001b[0m\n\u001b[0;32m   1082\u001b[0m     \u001b[39m# was very quick and its callback already dispatched all the\u001b[39;00m\n\u001b[0;32m   1083\u001b[0m     \u001b[39m# remaining jobs.\u001b[39;00m\n\u001b[0;32m   1084\u001b[0m     \u001b[39mself\u001b[39m\u001b[39m.\u001b[39m_iterating \u001b[39m=\u001b[39m \u001b[39mFalse\u001b[39;00m\n\u001b[1;32m-> 1085\u001b[0m     \u001b[39mif\u001b[39;00m \u001b[39mself\u001b[39;49m\u001b[39m.\u001b[39;49mdispatch_one_batch(iterator):\n\u001b[0;32m   1086\u001b[0m         \u001b[39mself\u001b[39m\u001b[39m.\u001b[39m_iterating \u001b[39m=\u001b[39m \u001b[39mself\u001b[39m\u001b[39m.\u001b[39m_original_iterator \u001b[39mis\u001b[39;00m \u001b[39mnot\u001b[39;00m \u001b[39mNone\u001b[39;00m\n\u001b[0;32m   1088\u001b[0m     \u001b[39mwhile\u001b[39;00m \u001b[39mself\u001b[39m\u001b[39m.\u001b[39mdispatch_one_batch(iterator):\n",
      "File \u001b[1;32m~\\AppData\\Local\\Packages\\PythonSoftwareFoundation.Python.3.10_qbz5n2kfra8p0\\LocalCache\\local-packages\\Python310\\site-packages\\joblib\\parallel.py:901\u001b[0m, in \u001b[0;36mParallel.dispatch_one_batch\u001b[1;34m(self, iterator)\u001b[0m\n\u001b[0;32m    899\u001b[0m     \u001b[39mreturn\u001b[39;00m \u001b[39mFalse\u001b[39;00m\n\u001b[0;32m    900\u001b[0m \u001b[39melse\u001b[39;00m:\n\u001b[1;32m--> 901\u001b[0m     \u001b[39mself\u001b[39;49m\u001b[39m.\u001b[39;49m_dispatch(tasks)\n\u001b[0;32m    902\u001b[0m     \u001b[39mreturn\u001b[39;00m \u001b[39mTrue\u001b[39;00m\n",
      "File \u001b[1;32m~\\AppData\\Local\\Packages\\PythonSoftwareFoundation.Python.3.10_qbz5n2kfra8p0\\LocalCache\\local-packages\\Python310\\site-packages\\joblib\\parallel.py:819\u001b[0m, in \u001b[0;36mParallel._dispatch\u001b[1;34m(self, batch)\u001b[0m\n\u001b[0;32m    817\u001b[0m \u001b[39mwith\u001b[39;00m \u001b[39mself\u001b[39m\u001b[39m.\u001b[39m_lock:\n\u001b[0;32m    818\u001b[0m     job_idx \u001b[39m=\u001b[39m \u001b[39mlen\u001b[39m(\u001b[39mself\u001b[39m\u001b[39m.\u001b[39m_jobs)\n\u001b[1;32m--> 819\u001b[0m     job \u001b[39m=\u001b[39m \u001b[39mself\u001b[39;49m\u001b[39m.\u001b[39;49m_backend\u001b[39m.\u001b[39;49mapply_async(batch, callback\u001b[39m=\u001b[39;49mcb)\n\u001b[0;32m    820\u001b[0m     \u001b[39m# A job can complete so quickly than its callback is\u001b[39;00m\n\u001b[0;32m    821\u001b[0m     \u001b[39m# called before we get here, causing self._jobs to\u001b[39;00m\n\u001b[0;32m    822\u001b[0m     \u001b[39m# grow. To ensure correct results ordering, .insert is\u001b[39;00m\n\u001b[0;32m    823\u001b[0m     \u001b[39m# used (rather than .append) in the following line\u001b[39;00m\n\u001b[0;32m    824\u001b[0m     \u001b[39mself\u001b[39m\u001b[39m.\u001b[39m_jobs\u001b[39m.\u001b[39minsert(job_idx, job)\n",
      "File \u001b[1;32m~\\AppData\\Local\\Packages\\PythonSoftwareFoundation.Python.3.10_qbz5n2kfra8p0\\LocalCache\\local-packages\\Python310\\site-packages\\joblib\\_parallel_backends.py:208\u001b[0m, in \u001b[0;36mSequentialBackend.apply_async\u001b[1;34m(self, func, callback)\u001b[0m\n\u001b[0;32m    206\u001b[0m \u001b[39mdef\u001b[39;00m \u001b[39mapply_async\u001b[39m(\u001b[39mself\u001b[39m, func, callback\u001b[39m=\u001b[39m\u001b[39mNone\u001b[39;00m):\n\u001b[0;32m    207\u001b[0m     \u001b[39m\"\"\"Schedule a func to be run\"\"\"\u001b[39;00m\n\u001b[1;32m--> 208\u001b[0m     result \u001b[39m=\u001b[39m ImmediateResult(func)\n\u001b[0;32m    209\u001b[0m     \u001b[39mif\u001b[39;00m callback:\n\u001b[0;32m    210\u001b[0m         callback(result)\n",
      "File \u001b[1;32m~\\AppData\\Local\\Packages\\PythonSoftwareFoundation.Python.3.10_qbz5n2kfra8p0\\LocalCache\\local-packages\\Python310\\site-packages\\joblib\\_parallel_backends.py:597\u001b[0m, in \u001b[0;36mImmediateResult.__init__\u001b[1;34m(self, batch)\u001b[0m\n\u001b[0;32m    594\u001b[0m \u001b[39mdef\u001b[39;00m \u001b[39m__init__\u001b[39m(\u001b[39mself\u001b[39m, batch):\n\u001b[0;32m    595\u001b[0m     \u001b[39m# Don't delay the application, to avoid keeping the input\u001b[39;00m\n\u001b[0;32m    596\u001b[0m     \u001b[39m# arguments in memory\u001b[39;00m\n\u001b[1;32m--> 597\u001b[0m     \u001b[39mself\u001b[39m\u001b[39m.\u001b[39mresults \u001b[39m=\u001b[39m batch()\n",
      "File \u001b[1;32m~\\AppData\\Local\\Packages\\PythonSoftwareFoundation.Python.3.10_qbz5n2kfra8p0\\LocalCache\\local-packages\\Python310\\site-packages\\joblib\\parallel.py:288\u001b[0m, in \u001b[0;36mBatchedCalls.__call__\u001b[1;34m(self)\u001b[0m\n\u001b[0;32m    284\u001b[0m \u001b[39mdef\u001b[39;00m \u001b[39m__call__\u001b[39m(\u001b[39mself\u001b[39m):\n\u001b[0;32m    285\u001b[0m     \u001b[39m# Set the default nested backend to self._backend but do not set the\u001b[39;00m\n\u001b[0;32m    286\u001b[0m     \u001b[39m# change the default number of processes to -1\u001b[39;00m\n\u001b[0;32m    287\u001b[0m     \u001b[39mwith\u001b[39;00m parallel_backend(\u001b[39mself\u001b[39m\u001b[39m.\u001b[39m_backend, n_jobs\u001b[39m=\u001b[39m\u001b[39mself\u001b[39m\u001b[39m.\u001b[39m_n_jobs):\n\u001b[1;32m--> 288\u001b[0m         \u001b[39mreturn\u001b[39;00m [func(\u001b[39m*\u001b[39margs, \u001b[39m*\u001b[39m\u001b[39m*\u001b[39mkwargs)\n\u001b[0;32m    289\u001b[0m                 \u001b[39mfor\u001b[39;00m func, args, kwargs \u001b[39min\u001b[39;00m \u001b[39mself\u001b[39m\u001b[39m.\u001b[39mitems]\n",
      "File \u001b[1;32m~\\AppData\\Local\\Packages\\PythonSoftwareFoundation.Python.3.10_qbz5n2kfra8p0\\LocalCache\\local-packages\\Python310\\site-packages\\joblib\\parallel.py:288\u001b[0m, in \u001b[0;36m<listcomp>\u001b[1;34m(.0)\u001b[0m\n\u001b[0;32m    284\u001b[0m \u001b[39mdef\u001b[39;00m \u001b[39m__call__\u001b[39m(\u001b[39mself\u001b[39m):\n\u001b[0;32m    285\u001b[0m     \u001b[39m# Set the default nested backend to self._backend but do not set the\u001b[39;00m\n\u001b[0;32m    286\u001b[0m     \u001b[39m# change the default number of processes to -1\u001b[39;00m\n\u001b[0;32m    287\u001b[0m     \u001b[39mwith\u001b[39;00m parallel_backend(\u001b[39mself\u001b[39m\u001b[39m.\u001b[39m_backend, n_jobs\u001b[39m=\u001b[39m\u001b[39mself\u001b[39m\u001b[39m.\u001b[39m_n_jobs):\n\u001b[1;32m--> 288\u001b[0m         \u001b[39mreturn\u001b[39;00m [func(\u001b[39m*\u001b[39margs, \u001b[39m*\u001b[39m\u001b[39m*\u001b[39mkwargs)\n\u001b[0;32m    289\u001b[0m                 \u001b[39mfor\u001b[39;00m func, args, kwargs \u001b[39min\u001b[39;00m \u001b[39mself\u001b[39m\u001b[39m.\u001b[39mitems]\n",
      "File \u001b[1;32m~\\AppData\\Local\\Packages\\PythonSoftwareFoundation.Python.3.10_qbz5n2kfra8p0\\LocalCache\\local-packages\\Python310\\site-packages\\sklearn\\utils\\fixes.py:117\u001b[0m, in \u001b[0;36m_FuncWrapper.__call__\u001b[1;34m(self, *args, **kwargs)\u001b[0m\n\u001b[0;32m    115\u001b[0m \u001b[39mdef\u001b[39;00m \u001b[39m__call__\u001b[39m(\u001b[39mself\u001b[39m, \u001b[39m*\u001b[39margs, \u001b[39m*\u001b[39m\u001b[39m*\u001b[39mkwargs):\n\u001b[0;32m    116\u001b[0m     \u001b[39mwith\u001b[39;00m config_context(\u001b[39m*\u001b[39m\u001b[39m*\u001b[39m\u001b[39mself\u001b[39m\u001b[39m.\u001b[39mconfig):\n\u001b[1;32m--> 117\u001b[0m         \u001b[39mreturn\u001b[39;00m \u001b[39mself\u001b[39m\u001b[39m.\u001b[39mfunction(\u001b[39m*\u001b[39margs, \u001b[39m*\u001b[39m\u001b[39m*\u001b[39mkwargs)\n",
      "File \u001b[1;32m~\\AppData\\Local\\Packages\\PythonSoftwareFoundation.Python.3.10_qbz5n2kfra8p0\\LocalCache\\local-packages\\Python310\\site-packages\\sklearn\\linear_model\\_logistic.py:436\u001b[0m, in \u001b[0;36m_logistic_regression_path\u001b[1;34m(X, y, pos_class, Cs, fit_intercept, max_iter, tol, verbose, solver, coef, class_weight, dual, penalty, intercept_scaling, multi_class, random_state, check_input, max_squared_sum, sample_weight, l1_ratio, n_threads)\u001b[0m\n\u001b[0;32m    432\u001b[0m l2_reg_strength \u001b[39m=\u001b[39m \u001b[39m1.0\u001b[39m \u001b[39m/\u001b[39m C\n\u001b[0;32m    433\u001b[0m iprint \u001b[39m=\u001b[39m [\u001b[39m-\u001b[39m\u001b[39m1\u001b[39m, \u001b[39m50\u001b[39m, \u001b[39m1\u001b[39m, \u001b[39m100\u001b[39m, \u001b[39m101\u001b[39m][\n\u001b[0;32m    434\u001b[0m     np\u001b[39m.\u001b[39msearchsorted(np\u001b[39m.\u001b[39marray([\u001b[39m0\u001b[39m, \u001b[39m1\u001b[39m, \u001b[39m2\u001b[39m, \u001b[39m3\u001b[39m]), verbose)\n\u001b[0;32m    435\u001b[0m ]\n\u001b[1;32m--> 436\u001b[0m opt_res \u001b[39m=\u001b[39m optimize\u001b[39m.\u001b[39;49mminimize(\n\u001b[0;32m    437\u001b[0m     func,\n\u001b[0;32m    438\u001b[0m     w0,\n\u001b[0;32m    439\u001b[0m     method\u001b[39m=\u001b[39;49m\u001b[39m\"\u001b[39;49m\u001b[39mL-BFGS-B\u001b[39;49m\u001b[39m\"\u001b[39;49m,\n\u001b[0;32m    440\u001b[0m     jac\u001b[39m=\u001b[39;49m\u001b[39mTrue\u001b[39;49;00m,\n\u001b[0;32m    441\u001b[0m     args\u001b[39m=\u001b[39;49m(X, target, sample_weight, l2_reg_strength, n_threads),\n\u001b[0;32m    442\u001b[0m     options\u001b[39m=\u001b[39;49m{\u001b[39m\"\u001b[39;49m\u001b[39miprint\u001b[39;49m\u001b[39m\"\u001b[39;49m: iprint, \u001b[39m\"\u001b[39;49m\u001b[39mgtol\u001b[39;49m\u001b[39m\"\u001b[39;49m: tol, \u001b[39m\"\u001b[39;49m\u001b[39mmaxiter\u001b[39;49m\u001b[39m\"\u001b[39;49m: max_iter},\n\u001b[0;32m    443\u001b[0m )\n\u001b[0;32m    444\u001b[0m n_iter_i \u001b[39m=\u001b[39m _check_optimize_result(\n\u001b[0;32m    445\u001b[0m     solver,\n\u001b[0;32m    446\u001b[0m     opt_res,\n\u001b[0;32m    447\u001b[0m     max_iter,\n\u001b[0;32m    448\u001b[0m     extra_warning_msg\u001b[39m=\u001b[39m_LOGISTIC_SOLVER_CONVERGENCE_MSG,\n\u001b[0;32m    449\u001b[0m )\n\u001b[0;32m    450\u001b[0m w0, loss \u001b[39m=\u001b[39m opt_res\u001b[39m.\u001b[39mx, opt_res\u001b[39m.\u001b[39mfun\n",
      "File \u001b[1;32m~\\AppData\\Local\\Packages\\PythonSoftwareFoundation.Python.3.10_qbz5n2kfra8p0\\LocalCache\\local-packages\\Python310\\site-packages\\scipy\\optimize\\_minimize.py:699\u001b[0m, in \u001b[0;36mminimize\u001b[1;34m(fun, x0, args, method, jac, hess, hessp, bounds, constraints, tol, callback, options)\u001b[0m\n\u001b[0;32m    696\u001b[0m     res \u001b[39m=\u001b[39m _minimize_newtoncg(fun, x0, args, jac, hess, hessp, callback,\n\u001b[0;32m    697\u001b[0m                              \u001b[39m*\u001b[39m\u001b[39m*\u001b[39moptions)\n\u001b[0;32m    698\u001b[0m \u001b[39melif\u001b[39;00m meth \u001b[39m==\u001b[39m \u001b[39m'\u001b[39m\u001b[39ml-bfgs-b\u001b[39m\u001b[39m'\u001b[39m:\n\u001b[1;32m--> 699\u001b[0m     res \u001b[39m=\u001b[39m _minimize_lbfgsb(fun, x0, args, jac, bounds,\n\u001b[0;32m    700\u001b[0m                            callback\u001b[39m=\u001b[39mcallback, \u001b[39m*\u001b[39m\u001b[39m*\u001b[39moptions)\n\u001b[0;32m    701\u001b[0m \u001b[39melif\u001b[39;00m meth \u001b[39m==\u001b[39m \u001b[39m'\u001b[39m\u001b[39mtnc\u001b[39m\u001b[39m'\u001b[39m:\n\u001b[0;32m    702\u001b[0m     res \u001b[39m=\u001b[39m _minimize_tnc(fun, x0, args, jac, bounds, callback\u001b[39m=\u001b[39mcallback,\n\u001b[0;32m    703\u001b[0m                         \u001b[39m*\u001b[39m\u001b[39m*\u001b[39moptions)\n",
      "File \u001b[1;32m~\\AppData\\Local\\Packages\\PythonSoftwareFoundation.Python.3.10_qbz5n2kfra8p0\\LocalCache\\local-packages\\Python310\\site-packages\\scipy\\optimize\\_lbfgsb_py.py:289\u001b[0m, in \u001b[0;36m_minimize_lbfgsb\u001b[1;34m(fun, x0, args, jac, bounds, disp, maxcor, ftol, gtol, eps, maxfun, maxiter, iprint, callback, maxls, finite_diff_rel_step, **unknown_options)\u001b[0m\n\u001b[0;32m    286\u001b[0m     \u001b[39mraise\u001b[39;00m \u001b[39mValueError\u001b[39;00m(\u001b[39m'\u001b[39m\u001b[39mlength of x0 != length of bounds\u001b[39m\u001b[39m'\u001b[39m)\n\u001b[0;32m    288\u001b[0m \u001b[39m# unbounded variables must use None, not +-inf, for optimizer to work properly\u001b[39;00m\n\u001b[1;32m--> 289\u001b[0m bounds \u001b[39m=\u001b[39m [(\u001b[39mNone\u001b[39;00m \u001b[39mif\u001b[39;00m l \u001b[39m==\u001b[39m \u001b[39m-\u001b[39mnp\u001b[39m.\u001b[39minf \u001b[39melse\u001b[39;00m l, \u001b[39mNone\u001b[39;00m \u001b[39mif\u001b[39;00m u \u001b[39m==\u001b[39m np\u001b[39m.\u001b[39minf \u001b[39melse\u001b[39;00m u) \u001b[39mfor\u001b[39;00m l, u \u001b[39min\u001b[39;00m bounds]\n\u001b[0;32m    290\u001b[0m \u001b[39m# LBFGSB is sent 'old-style' bounds, 'new-style' bounds are required by\u001b[39;00m\n\u001b[0;32m    291\u001b[0m \u001b[39m# approx_derivative and ScalarFunction\u001b[39;00m\n\u001b[0;32m    292\u001b[0m new_bounds \u001b[39m=\u001b[39m old_bound_to_new(bounds)\n",
      "File \u001b[1;32m~\\AppData\\Local\\Packages\\PythonSoftwareFoundation.Python.3.10_qbz5n2kfra8p0\\LocalCache\\local-packages\\Python310\\site-packages\\scipy\\optimize\\_lbfgsb_py.py:289\u001b[0m, in \u001b[0;36m<listcomp>\u001b[1;34m(.0)\u001b[0m\n\u001b[0;32m    286\u001b[0m     \u001b[39mraise\u001b[39;00m \u001b[39mValueError\u001b[39;00m(\u001b[39m'\u001b[39m\u001b[39mlength of x0 != length of bounds\u001b[39m\u001b[39m'\u001b[39m)\n\u001b[0;32m    288\u001b[0m \u001b[39m# unbounded variables must use None, not +-inf, for optimizer to work properly\u001b[39;00m\n\u001b[1;32m--> 289\u001b[0m bounds \u001b[39m=\u001b[39m [(\u001b[39mNone\u001b[39;00m \u001b[39mif\u001b[39;00m l \u001b[39m==\u001b[39m \u001b[39m-\u001b[39mnp\u001b[39m.\u001b[39minf \u001b[39melse\u001b[39;00m l, \u001b[39mNone\u001b[39;00m \u001b[39mif\u001b[39;00m u \u001b[39m==\u001b[39;49m np\u001b[39m.\u001b[39;49minf \u001b[39melse\u001b[39;00m u) \u001b[39mfor\u001b[39;00m l, u \u001b[39min\u001b[39;00m bounds]\n\u001b[0;32m    290\u001b[0m \u001b[39m# LBFGSB is sent 'old-style' bounds, 'new-style' bounds are required by\u001b[39;00m\n\u001b[0;32m    291\u001b[0m \u001b[39m# approx_derivative and ScalarFunction\u001b[39;00m\n\u001b[0;32m    292\u001b[0m new_bounds \u001b[39m=\u001b[39m old_bound_to_new(bounds)\n",
      "\u001b[1;31mKeyboardInterrupt\u001b[0m: "
     ]
    }
   ],
   "source": [
    "# Train with Logistic Regression\n",
    "logisticRegr = LogisticRegression()\n",
    "logisticRegr.fit(X_train, y_train)\n",
    "\n",
    "# Test with Naive Bayes and compute the score\n",
    "y_predRL =logisticRegr.predict(X_test)\n",
    "logisticRegr.score(X_test, y_test)\n",
    "\n",
    "# Plot classification report\n",
    "classification_report(y_test,y_predRL)"
   ]
  },
  {
   "cell_type": "raw",
   "id": "3a217384",
   "metadata": {},
   "source": [
    "SVM"
   ]
  },
  {
   "cell_type": "code",
   "execution_count": null,
   "id": "171b86f1",
   "metadata": {},
   "outputs": [
    {
     "data": {
      "text/plain": [
       "'              precision    recall  f1-score   support\\n\\n           0       1.00      0.84      0.91       300\\n           1       0.46      0.27      0.34       199\\n           2       1.00      0.63      0.77        84\\n           3       1.00      0.87      0.93       310\\n           4       0.85      0.90      0.88       432\\n           5       0.99      0.85      0.91       200\\n           6       0.97      0.90      0.93       399\\n           7       0.99      0.80      0.89        92\\n           8       1.00      0.57      0.72        74\\n           9       1.00      0.92      0.96       197\\n          10       0.99      0.88      0.94       205\\n          11       0.99      0.77      0.87       138\\n          12       0.21      0.89      0.34       186\\n          13       1.00      0.56      0.72        87\\n          14       0.89      0.91      0.90       229\\n          15       0.99      0.84      0.91       201\\n          16       1.00      0.69      0.82       120\\n          17       1.00      0.90      0.95       227\\n          18       1.00      0.91      0.95       204\\n          19       0.45      0.94      0.61       179\\n          20       1.00      0.92      0.96       207\\n          21       1.00      0.76      0.86       335\\n          22       0.97      0.85      0.91       349\\n          23       1.00      0.96      0.98       194\\n          24       1.00      0.88      0.94       273\\n          25       1.00      0.89      0.94       188\\n          26       1.00      0.74      0.85       278\\n          27       1.00      0.89      0.94       195\\n\\n    accuracy                           0.84      6082\\n   macro avg       0.92      0.81      0.84      6082\\nweighted avg       0.92      0.84      0.86      6082\\n'"
      ]
     },
     "execution_count": 22,
     "metadata": {},
     "output_type": "execute_result"
    }
   ],
   "source": [
    "#Train with SVM\n",
    "SVM= svm.SVC()\n",
    "SVM.fit(X_train,y_train)\n",
    "\n",
    "#Test with SVM and compute the score\n",
    "y_predSVM=SVM.predict(X_test)\n",
    "SVM.score(X_test, y_test)\n",
    "\n",
    "#Plot classification report\n",
    "classification_report(y_test,y_predSVM)"
   ]
  },
  {
   "cell_type": "markdown",
   "id": "e82e7915",
   "metadata": {},
   "source": [
    "Random Forest"
   ]
  },
  {
   "cell_type": "code",
   "execution_count": null,
   "id": "860ed5e0",
   "metadata": {},
   "outputs": [
    {
     "data": {
      "text/plain": [
       "'              precision    recall  f1-score   support\\n\\n           0       1.00      0.97      0.98       300\\n           1       0.88      0.25      0.38       199\\n           2       0.97      0.89      0.93        84\\n           3       0.97      0.98      0.98       310\\n           4       0.80      0.97      0.88       432\\n           5       1.00      0.92      0.96       200\\n           6       0.96      0.97      0.97       399\\n           7       0.97      0.93      0.95        92\\n           8       1.00      0.96      0.98        74\\n           9       1.00      0.98      0.99       197\\n          10       1.00      0.98      0.99       205\\n          11       0.90      0.89      0.90       138\\n          12       0.94      0.33      0.49       186\\n          13       0.21      1.00      0.35        87\\n          14       1.00      0.95      0.98       229\\n          15       0.99      0.87      0.93       201\\n          16       1.00      0.90      0.95       120\\n          17       1.00      1.00      1.00       227\\n          18       1.00      0.96      0.98       204\\n          19       1.00      0.96      0.98       179\\n          20       1.00      0.98      0.99       207\\n          21       0.99      0.96      0.98       335\\n          22       0.96      0.95      0.96       349\\n          23       1.00      1.00      1.00       194\\n          24       1.00      0.99      0.99       273\\n          25       1.00      0.96      0.98       188\\n          26       0.98      0.92      0.95       278\\n          27       1.00      0.99      0.99       195\\n\\n    accuracy                           0.92      6082\\n   macro avg       0.95      0.91      0.91      6082\\nweighted avg       0.96      0.92      0.92      6082\\n'"
      ]
     },
     "execution_count": 23,
     "metadata": {},
     "output_type": "execute_result"
    }
   ],
   "source": [
    "# Train with Random Forest\n",
    "RandomForest=RandomForestClassifier(n_estimators=100)\n",
    "RandomForest.fit(X_train,y_train)\n",
    "\n",
    "# Test with Random Forest and compute the score\n",
    "y_predRF=RandomForest.predict(X_test)\n",
    "RandomForest.score(X_test, y_test)\n",
    "\n",
    "# Plot classification report\n",
    "classification_report(y_test,y_predRF)"
   ]
  },
  {
   "cell_type": "markdown",
   "id": "f6fe783c",
   "metadata": {},
   "source": [
    "Train with XGBOOST"
   ]
  },
  {
   "cell_type": "code",
   "execution_count": 36,
   "id": "4599defe",
   "metadata": {},
   "outputs": [
    {
     "data": {
      "text/plain": [
       "'              precision    recall  f1-score   support\\n\\n           0       1.00      0.96      0.98       300\\n           1       0.82      0.38      0.52       199\\n           2       0.95      0.85      0.89        84\\n           3       0.98      0.98      0.98       310\\n           4       0.87      0.96      0.92       432\\n           5       0.99      0.95      0.97       200\\n           6       0.97      0.97      0.97       399\\n           7       0.98      0.95      0.96        92\\n           8       1.00      0.89      0.94        74\\n           9       1.00      0.95      0.98       197\\n          10       1.00      0.97      0.98       205\\n          11       0.91      0.87      0.89       138\\n          12       0.35      0.89      0.50       186\\n          13       1.00      0.85      0.92        87\\n          14       1.00      0.93      0.96       229\\n          15       0.96      0.92      0.94       201\\n          16       1.00      0.86      0.92       120\\n          17       1.00      1.00      1.00       227\\n          18       0.99      0.97      0.98       204\\n          19       1.00      0.96      0.98       179\\n          20       1.00      0.97      0.98       207\\n          21       1.00      0.92      0.95       335\\n          22       0.94      0.94      0.94       349\\n          23       1.00      0.98      0.99       194\\n          24       1.00      0.97      0.99       273\\n          25       1.00      0.94      0.97       188\\n          26       0.99      0.88      0.93       278\\n          27       1.00      0.98      0.99       195\\n\\n    accuracy                           0.93      6082\\n   macro avg       0.95      0.92      0.93      6082\\nweighted avg       0.95      0.93      0.93      6082\\n'"
      ]
     },
     "execution_count": 36,
     "metadata": {},
     "output_type": "execute_result"
    }
   ],
   "source": [
    "# Train with XGBoost\n",
    "xgboost=XGBClassifier()\n",
    "xgboost.fit(X_train,y_train)\n",
    "\n",
    "# Test with Random Forest and compute the score\n",
    "y_predRF=xgboost.predict(X_test)\n",
    "xgboost.score(X_test, y_test)\n",
    "\n",
    "# Plot classification report\n",
    "classification_report(y_test,y_predRF)"
   ]
  }
 ],
 "metadata": {
  "kernelspec": {
   "display_name": "Python 3.10.7 64-bit (microsoft store)",
   "language": "python",
   "name": "python3"
  },
  "language_info": {
   "codemirror_mode": {
    "name": "ipython",
    "version": 3
   },
   "file_extension": ".py",
   "mimetype": "text/x-python",
   "name": "python",
   "nbconvert_exporter": "python",
   "pygments_lexer": "ipython3",
   "version": "3.10.7"
  },
  "vscode": {
   "interpreter": {
    "hash": "3fdfd8ef55273c3ae4814dfc0ab1331ab27426cff83ff473ff8385768b99899d"
   }
  }
 },
 "nbformat": 4,
 "nbformat_minor": 5
}

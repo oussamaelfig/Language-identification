{
 "cells": [
  {
   "cell_type": "code",
   "execution_count": 7,
   "metadata": {},
   "outputs": [
    {
     "name": "stdout",
     "output_type": "stream",
     "text": [
      "                                                    Text Language     ID\n",
      "0      şirket icra kurulu başkanı melih abdülhayoğlu ...  Turkish  26110\n",
      "1      매춘업의 공식화를 주장한 민원식은 \"우又 근경近頃 일본인이 주가 음식매점 등국내 도...   Korean  26862\n",
      "2      خلال عظاته ركز التعليم اللاهوتي للبابا على الش...   Arabic  20562\n",
      "3      soggin was born on  march  he took his first d...  English  14298\n",
      "4      kulturmejeriet är sedan mitten av -talet en vi...  Swedish  17338\n",
      "...                                                  ...      ...    ...\n",
      "31007  그의 조선인 참정권 운동은 점차 조선인 지식인들 일각에서 호응을 얻기 시작하였다 민...      NaN  29033\n",
      "31008  มีความยาวสูงสุดราว  เซนติเมตร เป็นปลาที่พบกระจ...      NaN  15461\n",
      "31009  เอเธนส์มีประชาชนชายเพียงแค่  คน แต่มีหลายพันที...      NaN  15441\n",
      "31010  marty ally y buttons se encuentran en el camin...      NaN  16450\n",
      "31011  วัฏจักรเหล็กเป็นการหมุนเวียนของเหล็กในสิ่งแวดล...      NaN  19697\n",
      "\n",
      "[31012 rows x 3 columns]\n"
     ]
    }
   ],
   "source": [
    "import pandas as pd\n",
    "\n",
    "df = pd.read_csv (r'../language-identification-datasets.csv')   #read the csv file (put 'r' before the path string to address any special characters in the path, such as '\\'). Don't forget to put the file name at the end of the path + \".csv\"\n",
    "print (df)\n"
   ]
  }
 ],
 "metadata": {
  "kernelspec": {
   "display_name": "Python 3.10.7 64-bit (microsoft store)",
   "language": "python",
   "name": "python3"
  },
  "language_info": {
   "codemirror_mode": {
    "name": "ipython",
    "version": 3
   },
   "file_extension": ".py",
   "mimetype": "text/x-python",
   "name": "python",
   "nbconvert_exporter": "python",
   "pygments_lexer": "ipython3",
   "version": "3.10.7"
  },
  "orig_nbformat": 4,
  "vscode": {
   "interpreter": {
    "hash": "3fdfd8ef55273c3ae4814dfc0ab1331ab27426cff83ff473ff8385768b99899d"
   }
  }
 },
 "nbformat": 4,
 "nbformat_minor": 2
}
